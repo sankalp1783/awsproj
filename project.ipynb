{
 "cells": [
  {
   "cell_type": "markdown",
   "id": "8ebeb50d",
   "metadata": {},
   "source": [
    "## 📦 Package Installation"
   ]
  },
  {
   "cell_type": "code",
   "execution_count": null,
   "id": "22bcae41",
   "metadata": {},
   "outputs": [],
   "source": [
    "# Upgrade pip and install required libraries\n",
    "!pip install --upgrade pip setuptools wheel\n",
    "!pip install \"mxnet<2.0.0\" bokeh==2.0.1 autogluon --no-cache-dir"
   ]
  },
  {
   "cell_type": "markdown",
   "id": "8aca795c",
   "metadata": {},
   "source": [
    "## 🔐 Setup Kaggle API Credentials Securely"
   ]
  },
  {
   "cell_type": "code",
   "execution_count": null,
   "id": "c0d91109",
   "metadata": {},
   "outputs": [],
   "source": [
    "# Create directory for Kaggle API token and set permissions\n",
    "import os\n",
    "\n",
    "kaggle_dir = \"/root/.kaggle\"\n",
    "os.makedirs(kaggle_dir, exist_ok=True)\n",
    "token_path = os.path.join(kaggle_dir, \"kaggle.json\")\n",
    "\n",
    "# Create an empty file and restrict access\n",
    "!touch {token_path}\n",
    "!chmod 600 {token_path}"
   ]
  },
  {
   "cell_type": "code",
   "execution_count": null,
   "id": "bcf6f8af",
   "metadata": {},
   "outputs": [],
   "source": [
    "# Collect Kaggle credentials securely (DO NOT hardcode credentials)\n",
    "import json\n",
    "\n",
    "user_id = input(\"Enter your Kaggle username: \")\n",
    "api_key = input(\"Enter your Kaggle API key: \")\n",
    "\n",
    "with open(token_path, \"w\") as f:\n",
    "    json.dump({\"username\": user_id, \"key\": api_key}, f)"
   ]
  }
 ],
 "metadata": {},
 "nbformat": 4,
 "nbformat_minor": 5
}
